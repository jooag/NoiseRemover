{
  "cells": [
    {
      "cell_type": "code",
      "execution_count": 15,
      "metadata": {
        "colab": {
          "base_uri": "https://localhost:8080/",
          "height": 395
        },
        "id": "j-ZBOAfSSenK",
        "outputId": "1f8f73a1-dea2-4346-8202-f9ec2319dddd"
      },
      "outputs": [],
      "source": [
        "from noise_dataset import NoiseDataset # importando nosso dataset de ruido\n",
        "import torch\n",
        "from torch import nn\n",
        "from torch import optim\n",
        "from torch.nn import functional as F\n",
        "from torch.utils.data import DataLoader\n",
        "from math import floor # para dividir dataset"
      ]
    },
    {
      "cell_type": "code",
      "execution_count": 16,
      "metadata": {
        "id": "YCf0CW7iS0h_"
      },
      "outputs": [],
      "source": [
        "# criando nossa rede neural\n",
        "class NN(nn.Module):\n",
        "\tdef __init__(self):\n",
        "\t\tsuper(NN, self).__init__()\n",
        "\t\tself.operation_sequence = nn.Sequential(\n",
        "\t\t\tnn.Linear(5, 10),\n",
        "\t\t\tnn.ReLU(),\n",
        "\t\t\tnn.Linear(10, 2)\n",
        "\t\t)\n",
        "\n",
        "\tdef forward(self, x):\n",
        "\t\tresult = self.operation_sequence(x)\n",
        "\t\treturn result"
      ]
    },
    {
      "cell_type": "code",
      "execution_count": null,
      "metadata": {
        "id": "8pY5zbN9x5gp"
      },
      "outputs": [],
      "source": []
    },
    {
      "cell_type": "code",
      "execution_count": 17,
      "metadata": {
        "colab": {
          "base_uri": "https://localhost:8080/"
        },
        "id": "WTzns2HiTJGk",
        "outputId": "a22f6c0d-b541-47aa-929a-2f4ef13880c0"
      },
      "outputs": [
        {
          "name": "stdout",
          "output_type": "stream",
          "text": [
            "Usando o dispositivo cpu\n"
          ]
        }
      ],
      "source": [
        "#verificando dispositivo a ser utilizado\n",
        "device = \"cuda\" if torch.cuda.is_available() else \"cpu\"\n",
        "print(f\"Usando o dispositivo {device}\")"
      ]
    },
    {
      "cell_type": "code",
      "execution_count": 18,
      "metadata": {
        "id": "F3eq9pIQTGmC"
      },
      "outputs": [],
      "source": [
        "# criando nosso calculador de acuracia\n",
        "def check_accuracy(loader, model):\n",
        "  num_correct = 0\n",
        "  num_samples = 0\n",
        "  model.eval()\n",
        "  with torch.no_grad(): # usamos no_grad para nao alterar parametros da rede com cada chamada.\n",
        "    for data, target in loader:\n",
        "      data = data.to(device)\n",
        "      target = target.to(device)\n",
        "      scores = model(data)\n",
        "      _, predictions = scores.max(1)\n",
        "      num_correct += (predictions == target).sum()\n",
        "      num_samples += predictions.size(0)\n",
        "  \n",
        "  model.train()\n",
        "  return num_correct / num_samples\n"
      ]
    },
    {
      "cell_type": "code",
      "execution_count": 33,
      "metadata": {
        "id": "xXHsNIpQTLTs"
      },
      "outputs": [],
      "source": [
        "# definindo variaveis importantes\n",
        "operator_size = 5\n",
        "learning_rate = 0.01\n",
        "batch_size = 12\n",
        "num_epochs = 4"
      ]
    },
    {
      "cell_type": "code",
      "execution_count": 23,
      "metadata": {
        "id": "0aL4NevpUii6"
      },
      "outputs": [],
      "source": [
        "# carregando nosso dataset\n",
        "dataset = NoiseDataset()\n",
        "size = len(dataset)\n",
        "train, test = torch.utils.data.random_split(dataset, lengths=[floor(0.7*size), floor(0.3*size)])\n",
        "train_data = DataLoader(train, batch_size=batch_size, shuffle=True)\n",
        "test_data = DataLoader(test, batch_size=batch_size, shuffle=True)"
      ]
    },
    {
      "cell_type": "code",
      "execution_count": 24,
      "metadata": {
        "id": "JWuNt7QvTkyo"
      },
      "outputs": [],
      "source": [
        "model = NN().to(device)"
      ]
    },
    {
      "cell_type": "code",
      "execution_count": 28,
      "metadata": {
        "id": "scMIq29TTmKz"
      },
      "outputs": [],
      "source": [
        "# criando loss function e otimizador\n",
        "loss = nn.CrossEntropyLoss(weight=torch.Tensor([6.5, 1])) \n",
        "optimizer = optim.Adam(model.parameters(), lr=learning_rate)"
      ]
    },
    {
      "cell_type": "code",
      "execution_count": 34,
      "metadata": {
        "id": "GOpGxlxbT3dv"
      },
      "outputs": [],
      "source": [
        "# treinando nossa rede\n",
        "for epoch in range(num_epochs):\n",
        "  for i, (data, target) in enumerate(train_data):\n",
        "    # definindo tensores para CUDA:\n",
        "    data = data.to(device)\n",
        "    target = target.to(device)\n",
        "  \n",
        "    preds = model(data)\n",
        "    error = loss(preds, target)\n",
        "\t\t\n",
        "    optimizer.zero_grad() # zerando gradiente para atualizar logo em seguida\n",
        "    error.backward()\n",
        "    optimizer.step()"
      ]
    },
    {
      "cell_type": "code",
      "execution_count": 35,
      "metadata": {
        "colab": {
          "base_uri": "https://localhost:8080/"
        },
        "id": "lNky_xG0UQK4",
        "outputId": "cd9848a2-c022-4ead-c66e-09651525e220"
      },
      "outputs": [
        {
          "data": {
            "text/plain": [
              "tensor(0.9803)"
            ]
          },
          "execution_count": 35,
          "metadata": {},
          "output_type": "execute_result"
        }
      ],
      "source": [
        "check_accuracy(test_data, model)"
      ]
    },
    {
      "cell_type": "code",
      "execution_count": 36,
      "metadata": {
        "id": "RKp6fWL7vrSj"
      },
      "outputs": [],
      "source": [
        "def check_error(loader, model, loss):\n",
        "  num_correct = 0\n",
        "  num_samples = 0\n",
        "  model.eval()\n",
        "  running_error=0.0\n",
        "  with torch.no_grad(): # usamos no_grad para nao alterar parametros da rede com cada chamada.\n",
        "    for data, target in loader:\n",
        "      data = data.to(device)\n",
        "      target = target.to(device)\n",
        "      scores = model(data)\n",
        "      _, predictions = scores.max(1)\n",
        "      num_correct += (predictions == target).sum()\n",
        "      num_samples += predictions.size(0)\n",
        "      running_error += loss(scores, target).item()\n",
        "  model.train()\n",
        "  return running_error/num_samples"
      ]
    },
    {
      "cell_type": "code",
      "execution_count": 37,
      "metadata": {
        "colab": {
          "base_uri": "https://localhost:8080/",
          "height": 174
        },
        "id": "9Es1KHEoxzFa",
        "outputId": "3d5597e3-4119-4a80-f695-102cc568eda8"
      },
      "outputs": [
        {
          "data": {
            "text/plain": [
              "0.00886502424708257"
            ]
          },
          "execution_count": 37,
          "metadata": {},
          "output_type": "execute_result"
        }
      ],
      "source": [
        "check_error(test_data, model, loss)"
      ]
    },
    {
      "cell_type": "code",
      "execution_count": 38,
      "metadata": {},
      "outputs": [],
      "source": [
        "torch.save(model.state_dict(), 'model.st')"
      ]
    },
    {
      "cell_type": "code",
      "execution_count": null,
      "metadata": {},
      "outputs": [],
      "source": []
    }
  ],
  "metadata": {
    "accelerator": "GPU",
    "colab": {
      "provenance": []
    },
    "gpuClass": "standard",
    "kernelspec": {
      "display_name": "Python 3",
      "language": "python",
      "name": "python3"
    },
    "language_info": {
      "codemirror_mode": {
        "name": "ipython",
        "version": 3
      },
      "file_extension": ".py",
      "mimetype": "text/x-python",
      "name": "python",
      "nbconvert_exporter": "python",
      "pygments_lexer": "ipython3",
      "version": "3.10.8 (main, Nov  1 2022, 14:18:21) [GCC 12.2.0]"
    },
    "vscode": {
      "interpreter": {
        "hash": "e7370f93d1d0cde622a1f8e1c04877d8463912d04d973331ad4851f04de6915a"
      }
    }
  },
  "nbformat": 4,
  "nbformat_minor": 0
}
